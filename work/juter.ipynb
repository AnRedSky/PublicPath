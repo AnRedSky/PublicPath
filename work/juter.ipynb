{
 "metadata": {
  "language_info": {
   "codemirror_mode": {
    "name": "ipython",
    "version": 3
   },
   "file_extension": ".py",
   "mimetype": "text/x-python",
   "name": "python",
   "nbconvert_exporter": "python",
   "pygments_lexer": "ipython3",
   "version": "3.8.8"
  },
  "orig_nbformat": 2,
  "kernelspec": {
   "name": "python388jvsc74a57bd081dad2b9ee176275789f36f8c7300e9a48f65200b4f5f975ea17e58057c2784a",
   "display_name": "Python 3.8.8 64-bit ('py38': conda)"
  }
 },
 "nbformat": 4,
 "nbformat_minor": 2,
 "cells": [
  {
   "cell_type": "code",
   "execution_count": 1,
   "metadata": {},
   "outputs": [],
   "source": [
    "import pandas as pd\n",
    "import numpy as np\n",
    "import matplotlib.pyplot as mpl\n"
   ]
  },
  {
   "cell_type": "code",
   "execution_count": 2,
   "metadata": {},
   "outputs": [
    {
     "output_type": "stream",
     "name": "stderr",
     "text": [
      "<ipython-input-2-78eeb466c686>:3: FutureWarning: Your version of xlrd is 1.2.0. In xlrd >= 2.0, only the xls format is supported. As a result, the openpyxl engine will be used if it is installed and the engine argument is not specified. Install openpyxl instead.\n  df=pd.read_excel(path,sheet)\n"
     ]
    }
   ],
   "source": [
    "path = r'./成功易5月份人民币和香港端口日均消耗.xlsx'\n",
    "sheet=['美金端口','人民币端口','最终到达网址-人民币','最终到达网址-美金']\n",
    "df=pd.read_excel(path,sheet)"
   ]
  },
  {
   "cell_type": "code",
   "execution_count": 3,
   "metadata": {},
   "outputs": [
    {
     "output_type": "execute_result",
     "data": {
      "text/plain": [
       "        客户 ID                                        最终到达网址\n",
       "0  3964201684                         http://www.sem123.com\n",
       "1  7445692243  http://www.xinkeyeya.com/products_index.html\n",
       "2  7445692243           http://www.xinkeyeya.com/nav/9.html\n",
       "3  7445692243                      http://www.xinkeyeya.com\n",
       "4  8673616182       http://www.suited.com.cn/list.asp?id=21"
      ],
      "text/html": "<div>\n<style scoped>\n    .dataframe tbody tr th:only-of-type {\n        vertical-align: middle;\n    }\n\n    .dataframe tbody tr th {\n        vertical-align: top;\n    }\n\n    .dataframe thead th {\n        text-align: right;\n    }\n</style>\n<table border=\"1\" class=\"dataframe\">\n  <thead>\n    <tr style=\"text-align: right;\">\n      <th></th>\n      <th>客户 ID</th>\n      <th>最终到达网址</th>\n    </tr>\n  </thead>\n  <tbody>\n    <tr>\n      <th>0</th>\n      <td>3964201684</td>\n      <td>http://www.sem123.com</td>\n    </tr>\n    <tr>\n      <th>1</th>\n      <td>7445692243</td>\n      <td>http://www.xinkeyeya.com/products_index.html</td>\n    </tr>\n    <tr>\n      <th>2</th>\n      <td>7445692243</td>\n      <td>http://www.xinkeyeya.com/nav/9.html</td>\n    </tr>\n    <tr>\n      <th>3</th>\n      <td>7445692243</td>\n      <td>http://www.xinkeyeya.com</td>\n    </tr>\n    <tr>\n      <th>4</th>\n      <td>8673616182</td>\n      <td>http://www.suited.com.cn/list.asp?id=21</td>\n    </tr>\n  </tbody>\n</table>\n</div>"
     },
     "metadata": {},
     "execution_count": 3
    }
   ],
   "source": [
    "import re\n",
    "df['最终到达网址-美金']['客户 ID']=df['最终到达网址-美金']['客户 ID'].apply(lambda x:re.sub('-','',x))\n",
    "df['最终到达网址-人民币']['客户 ID']=df['最终到达网址-人民币']['客户 ID'].apply(lambda x:re.sub('-','',x))\n",
    "concat_pd=pd.concat([df['最终到达网址-人民币'],df['最终到达网址-美金']],axis=0)\n",
    "# concat_pd.drop_duplicates('客户 ID')[\"最终到达网址\"].apply(lambda x:re.match(r'(.*\\.com)|(.*\\.net)',x).group(0))\n",
    "concat_pd.head(5)\n",
    "\n"
   ]
  },
  {
   "source": [
    "# concat_pd2=concat_pd.drop_duplicates('客户 ID')[\"最终到达网址\"].apply(lambda x:re.match(r'(.*\\.com)',x).group(1))\n"
   ],
   "cell_type": "code",
   "metadata": {},
   "execution_count": null,
   "outputs": []
  },
  {
   "cell_type": "code",
   "execution_count": 60,
   "metadata": {},
   "outputs": [
    {
     "output_type": "execute_result",
     "data": {
      "text/plain": [
       "            客户 ID                                             最终到达网址\n",
       "0      3964201684                              http://www.sem123.com\n",
       "1      7445692243       http://www.xinkeyeya.com/products_index.html\n",
       "2      7445692243                http://www.xinkeyeya.com/nav/9.html\n",
       "3      7445692243                           http://www.xinkeyeya.com\n",
       "4      8673616182            http://www.suited.com.cn/list.asp?id=21\n",
       "...           ...                                                ...\n",
       "42150  3189128694  https://www.oxbridgedu.org/article/8489.html?g...\n",
       "42151  3189128694  https://school.oxbridgedu.org/article/article/...\n",
       "42152  4117135199  http://www.alusignacm.com/?jh=wlcs_tyc&dy=alum...\n",
       "42153  4117135199  http://www.alusignacp.com/index.html?jh=oz_tyc...\n",
       "42154  1549640495  https://www.tfastener.com/out-inner-teeth-wash...\n",
       "\n",
       "[915483 rows x 2 columns]"
      ],
      "text/html": "<div>\n<style scoped>\n    .dataframe tbody tr th:only-of-type {\n        vertical-align: middle;\n    }\n\n    .dataframe tbody tr th {\n        vertical-align: top;\n    }\n\n    .dataframe thead th {\n        text-align: right;\n    }\n</style>\n<table border=\"1\" class=\"dataframe\">\n  <thead>\n    <tr style=\"text-align: right;\">\n      <th></th>\n      <th>客户 ID</th>\n      <th>最终到达网址</th>\n    </tr>\n  </thead>\n  <tbody>\n    <tr>\n      <th>0</th>\n      <td>3964201684</td>\n      <td>http://www.sem123.com</td>\n    </tr>\n    <tr>\n      <th>1</th>\n      <td>7445692243</td>\n      <td>http://www.xinkeyeya.com/products_index.html</td>\n    </tr>\n    <tr>\n      <th>2</th>\n      <td>7445692243</td>\n      <td>http://www.xinkeyeya.com/nav/9.html</td>\n    </tr>\n    <tr>\n      <th>3</th>\n      <td>7445692243</td>\n      <td>http://www.xinkeyeya.com</td>\n    </tr>\n    <tr>\n      <th>4</th>\n      <td>8673616182</td>\n      <td>http://www.suited.com.cn/list.asp?id=21</td>\n    </tr>\n    <tr>\n      <th>...</th>\n      <td>...</td>\n      <td>...</td>\n    </tr>\n    <tr>\n      <th>42150</th>\n      <td>3189128694</td>\n      <td>https://www.oxbridgedu.org/article/8489.html?g...</td>\n    </tr>\n    <tr>\n      <th>42151</th>\n      <td>3189128694</td>\n      <td>https://school.oxbridgedu.org/article/article/...</td>\n    </tr>\n    <tr>\n      <th>42152</th>\n      <td>4117135199</td>\n      <td>http://www.alusignacm.com/?jh=wlcs_tyc&amp;dy=alum...</td>\n    </tr>\n    <tr>\n      <th>42153</th>\n      <td>4117135199</td>\n      <td>http://www.alusignacp.com/index.html?jh=oz_tyc...</td>\n    </tr>\n    <tr>\n      <th>42154</th>\n      <td>1549640495</td>\n      <td>https://www.tfastener.com/out-inner-teeth-wash...</td>\n    </tr>\n  </tbody>\n</table>\n<p>915483 rows × 2 columns</p>\n</div>"
     },
     "metadata": {},
     "execution_count": 60
    }
   ],
   "source": [
    "concat_pd"
   ]
  },
  {
   "cell_type": "code",
   "execution_count": null,
   "metadata": {},
   "outputs": [],
   "source": [
    "import re\n",
    "url=\"http://www.xinkeyeya.com/products_index.html\"\n",
    "print(re.match('www', url).span())  # 在起始位置匹配\n",
    "  "
   ]
  },
  {
   "cell_type": "code",
   "execution_count": null,
   "metadata": {},
   "outputs": [],
   "source": []
  }
 ]
}